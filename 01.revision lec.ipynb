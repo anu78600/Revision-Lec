{
 "cells": [
  {
   "cell_type": "markdown",
   "metadata": {},
   "source": [
    "## we have to build a student database wherein we will have:\n",
    "   \n",
    "   * Student_id\n",
    "   * Gender\n",
    "   * Department\n",
    "   * Sessional_perc\n",
    "   * Final_sem marks\n",
    "   * Backlogs"
   ]
  },
  {
   "cell_type": "markdown",
   "metadata": {},
   "source": []
  },
  {
   "cell_type": "code",
   "execution_count": 2,
   "metadata": {},
   "outputs": [],
   "source": [
    "student_ids = ['s01','s02','s03','s04','s05']\n",
    "gender = [\"M\",'F','F','M','F']\n",
    "dept = ['CS','ECE','ME','CS','ME']\n",
    "sessional_perc = [45,60,73,65.3,71.9]\n",
    "total_marks = [680,800,520,650,780]\n",
    "backlogs = ['NB','B','NB','NB','NB']"
   ]
  },
  {
   "cell_type": "code",
   "execution_count": null,
   "metadata": {},
   "outputs": [],
   "source": []
  },
  {
   "cell_type": "markdown",
   "metadata": {},
   "source": [
    "#### If any student has received more than 70% in their sessional , increase the total marks by 2%"
   ]
  },
  {
   "cell_type": "code",
   "execution_count": 3,
   "metadata": {},
   "outputs": [
    {
     "name": "stdout",
     "output_type": "stream",
     "text": [
      "Marks did not change\n",
      "Marks did not change\n",
      "Marks changed by 2%\n",
      "Marks did not change\n",
      "Marks changed by 2%\n"
     ]
    }
   ],
   "source": [
    "for i in range(len(student_ids)):\n",
    "    if sessional_perc[i]> 70:\n",
    "        total_marks[i] = total_marks[i] + total_marks[i]*0.02\n",
    "        print(\"Marks changed by 2%\")\n",
    "    else:\n",
    "        print(\"Marks did not change\")    "
   ]
  },
  {
   "cell_type": "markdown",
   "metadata": {},
   "source": [
    "#### s01 and s04 have got updated backlog and we need to update them"
   ]
  },
  {
   "cell_type": "code",
   "execution_count": 4,
   "metadata": {},
   "outputs": [],
   "source": [
    "updated_students = ['s01','s04']\n",
    "for i in range (len(student_ids)):\n",
    "    if student_ids[i] in updated_students:\n",
    "        backlogs[i] = 'B'"
   ]
  },
  {
   "cell_type": "code",
   "execution_count": 5,
   "metadata": {},
   "outputs": [
    {
     "data": {
      "text/plain": [
       "['B', 'B', 'NB', 'B', 'NB']"
      ]
     },
     "execution_count": 5,
     "metadata": {},
     "output_type": "execute_result"
    }
   ],
   "source": [
    "backlogs    #backlogs for s01 and s04 is updated"
   ]
  },
  {
   "cell_type": "markdown",
   "metadata": {},
   "source": [
    "#### sessional_perc less than or equal to 45 update their backlogs to 'NB'. we got it as homework to do. "
   ]
  },
  {
   "cell_type": "code",
   "execution_count": 6,
   "metadata": {},
   "outputs": [],
   "source": [
    "updated_students = ['s01','s04']\n",
    "for i in range (len(student_ids)):\n",
    "    if student_ids[i] in updated_students:\n",
    "        if sessional_perc[i] <= 45:\n",
    "           backlogs[i] = 'NB'"
   ]
  },
  {
   "cell_type": "code",
   "execution_count": 7,
   "metadata": {},
   "outputs": [
    {
     "data": {
      "text/plain": [
       "['NB', 'B', 'NB', 'B', 'NB']"
      ]
     },
     "execution_count": 7,
     "metadata": {},
     "output_type": "execute_result"
    }
   ],
   "source": [
    "backlogs"
   ]
  },
  {
   "cell_type": "markdown",
   "metadata": {},
   "source": [
    "#### if a students total marks is greater than 750 and they have no backlog and they are from CS department, they will receive a 'High Achiever Scholarship'.\n",
    "\n",
    "#### if a students has no backlog and has marks between 650 and 720 , they will receive 'Achiever Scholarship'"
   ]
  },
  {
   "cell_type": "code",
   "execution_count": 8,
   "metadata": {},
   "outputs": [
    {
     "data": {
      "text/plain": [
       "['NB', 'B', 'NB', 'B', 'NB']"
      ]
     },
     "execution_count": 8,
     "metadata": {},
     "output_type": "execute_result"
    }
   ],
   "source": [
    "backlogs"
   ]
  },
  {
   "cell_type": "code",
   "execution_count": 14,
   "metadata": {},
   "outputs": [
    {
     "data": {
      "text/plain": [
       "['CS', 'ECE', 'ME', 'CS', 'ME']"
      ]
     },
     "execution_count": 14,
     "metadata": {},
     "output_type": "execute_result"
    }
   ],
   "source": [
    "dept"
   ]
  },
  {
   "cell_type": "code",
   "execution_count": 16,
   "metadata": {},
   "outputs": [],
   "source": [
    "dept[4] = 'CS'"
   ]
  },
  {
   "cell_type": "code",
   "execution_count": 17,
   "metadata": {},
   "outputs": [
    {
     "data": {
      "text/plain": [
       "['CS', 'ECE', 'ME', 'CS', 'CS']"
      ]
     },
     "execution_count": 17,
     "metadata": {},
     "output_type": "execute_result"
    }
   ],
   "source": [
    "dept"
   ]
  },
  {
   "cell_type": "code",
   "execution_count": 9,
   "metadata": {},
   "outputs": [
    {
     "data": {
      "text/plain": [
       "[680, 800, 530.4, 650, 795.6]"
      ]
     },
     "execution_count": 9,
     "metadata": {},
     "output_type": "execute_result"
    }
   ],
   "source": [
    "total_marks"
   ]
  },
  {
   "cell_type": "code",
   "execution_count": 10,
   "metadata": {},
   "outputs": [],
   "source": [
    "scholarship = ['No Scholarship' for _ in range (len(student_ids))]   #list comprehensive method h ye , multiple line code likhne se acha h ham usi ko single line me likh de"
   ]
  },
  {
   "cell_type": "code",
   "execution_count": 11,
   "metadata": {},
   "outputs": [
    {
     "data": {
      "text/plain": [
       "['No Scholarship',\n",
       " 'No Scholarship',\n",
       " 'No Scholarship',\n",
       " 'No Scholarship',\n",
       " 'No Scholarship']"
      ]
     },
     "execution_count": 11,
     "metadata": {},
     "output_type": "execute_result"
    }
   ],
   "source": [
    "scholarship"
   ]
  },
  {
   "cell_type": "code",
   "execution_count": 12,
   "metadata": {},
   "outputs": [],
   "source": [
    "# uper vale ko ese v likh skte h\n",
    "\n",
    "scholarship = []\n",
    "\n",
    "for _ in range (len(student_ids)):     #  _ ye palce holder h , ham yha pr i ya kuch v likh skte h, confussion na ho iss liye notes lga rha hu\n",
    "    scholarship.append('No Scholarship') "
   ]
  },
  {
   "cell_type": "code",
   "execution_count": 13,
   "metadata": {},
   "outputs": [
    {
     "data": {
      "text/plain": [
       "['No Scholarship',\n",
       " 'No Scholarship',\n",
       " 'No Scholarship',\n",
       " 'No Scholarship',\n",
       " 'No Scholarship']"
      ]
     },
     "execution_count": 13,
     "metadata": {},
     "output_type": "execute_result"
    }
   ],
   "source": [
    "scholarship               # itna bada code likhne ke bjaye ham isi ko short kr skte h"
   ]
  },
  {
   "cell_type": "code",
   "execution_count": 19,
   "metadata": {},
   "outputs": [
    {
     "name": "stdout",
     "output_type": "stream",
     "text": [
      "No scholarships were given\n",
      "No scholarships were given\n",
      "No scholarships were given\n",
      "High Achiever Scholarship awarded to s05\n"
     ]
    }
   ],
   "source": [
    "for i in range(len(student_ids)):\n",
    "    if dept[i] == 'CS' and total_marks[i] > 750 and backlogs[i] == 'NB':\n",
    "        scholarship[i] = 'High Achiever Scholarship'\n",
    "        print(f'High Achiever Scholarship awarded to {student_ids[i]}')\n",
    "    \n",
    "    elif backlogs[i] == 'NB' and (650 < total_marks[i] <= 720) :\n",
    "           scholarship[i] = 'Achiever Scholarship' \n",
    "    else:\n",
    "        print('No scholarships were given') \n",
    "              "
   ]
  },
  {
   "cell_type": "code",
   "execution_count": 20,
   "metadata": {},
   "outputs": [],
   "source": [
    "# f{string}\n",
    " # ham kisi v variable ko call kar skte h curly bracket ke andr\n",
    "\n",
    "a = 10 \n",
    "b = 5\n",
    "\n",
    "c = a+b"
   ]
  },
  {
   "cell_type": "code",
   "execution_count": 23,
   "metadata": {},
   "outputs": [
    {
     "name": "stdout",
     "output_type": "stream",
     "text": [
      "the sum of 10 and 5 is 15\n"
     ]
    }
   ],
   "source": [
    "print(f\"the sum of {a} and {b} is {c}\")"
   ]
  },
  {
   "cell_type": "code",
   "execution_count": 22,
   "metadata": {},
   "outputs": [
    {
     "name": "stdout",
     "output_type": "stream",
     "text": [
      "the sum of {a} and {b} is {c}\n"
     ]
    }
   ],
   "source": [
    "# agar normal bina f string ke likhe\n",
    "print(\"the sum of {a} and {b} is {c}\")"
   ]
  },
  {
   "cell_type": "code",
   "execution_count": 24,
   "metadata": {},
   "outputs": [
    {
     "data": {
      "text/plain": [
       "[680, 800, 530.4, 650, 795.6]"
      ]
     },
     "execution_count": 24,
     "metadata": {},
     "output_type": "execute_result"
    }
   ],
   "source": [
    "total_marks"
   ]
  },
  {
   "cell_type": "code",
   "execution_count": 25,
   "metadata": {},
   "outputs": [
    {
     "data": {
      "text/plain": [
       "['CS', 'ECE', 'ME', 'CS', 'CS']"
      ]
     },
     "execution_count": 25,
     "metadata": {},
     "output_type": "execute_result"
    }
   ],
   "source": [
    "dept"
   ]
  },
  {
   "cell_type": "code",
   "execution_count": 26,
   "metadata": {},
   "outputs": [
    {
     "data": {
      "text/plain": [
       "['NB', 'B', 'NB', 'B', 'NB']"
      ]
     },
     "execution_count": 26,
     "metadata": {},
     "output_type": "execute_result"
    }
   ],
   "source": [
    "backlogs"
   ]
  },
  {
   "cell_type": "code",
   "execution_count": 27,
   "metadata": {},
   "outputs": [],
   "source": [
    "total_marks[2] = 690"
   ]
  },
  {
   "cell_type": "code",
   "execution_count": 28,
   "metadata": {},
   "outputs": [
    {
     "data": {
      "text/plain": [
       "[680, 800, 690, 650, 795.6]"
      ]
     },
     "execution_count": 28,
     "metadata": {},
     "output_type": "execute_result"
    }
   ],
   "source": [
    "total_marks"
   ]
  },
  {
   "cell_type": "code",
   "execution_count": 32,
   "metadata": {},
   "outputs": [
    {
     "name": "stdout",
     "output_type": "stream",
     "text": [
      "Achiever Scholarship awarded to s01\n",
      "No scholarships were given\n",
      "Achiever Scholarship awarded to s03\n",
      "No scholarships were given\n",
      "High Achiever Scholarship awarded to s05\n"
     ]
    }
   ],
   "source": [
    "for i in range(len(student_ids)):\n",
    "    if dept[i] == 'CS' and total_marks[i] > 750 and backlogs[i] == 'NB':\n",
    "        scholarship[i] = 'High Achiever Scholarship'\n",
    "        print(f'High Achiever Scholarship awarded to {student_ids[i]}')\n",
    "    \n",
    "    elif backlogs[i] == 'NB' and (650 < total_marks[i] <= 720) :\n",
    "           scholarship[i] = 'Achiever Scholarship' \n",
    "           print(f'Achiever Scholarship awarded to {student_ids[i]}')\n",
    "    else:\n",
    "        print('No scholarships were given') "
   ]
  },
  {
   "cell_type": "code",
   "execution_count": 33,
   "metadata": {},
   "outputs": [
    {
     "data": {
      "text/plain": [
       "['Achiever Scholarship',\n",
       " 'No Scholarship',\n",
       " 'Achiever Scholarship',\n",
       " 'No Scholarship',\n",
       " 'High Achiever Scholarship']"
      ]
     },
     "execution_count": 33,
     "metadata": {},
     "output_type": "execute_result"
    }
   ],
   "source": [
    "scholarship"
   ]
  },
  {
   "cell_type": "code",
   "execution_count": 34,
   "metadata": {},
   "outputs": [],
   "source": [
    "std_db = {\n",
    "    'Student ID':student_ids,\n",
    "    'Gender':gender,\n",
    "    'Department':dept,\n",
    "    'Sessional Percentage':sessional_perc,\n",
    "    'Total Marks':total_marks,\n",
    "    'Backlogs':backlogs,\n",
    "    'Scholarship':scholarship   \n",
    "}"
   ]
  },
  {
   "cell_type": "code",
   "execution_count": 36,
   "metadata": {},
   "outputs": [
    {
     "data": {
      "text/plain": [
       "{'Student ID': ['s01', 's02', 's03', 's04', 's05'],\n",
       " 'Gender': ['M', 'F', 'F', 'M', 'F'],\n",
       " 'Department': ['CS', 'ECE', 'ME', 'CS', 'CS'],\n",
       " 'Sessional Percentage': [45, 60, 73, 65.3, 71.9],\n",
       " 'Total Marks': [680, 800, 690, 650, 795.6],\n",
       " 'Backlogs': ['NB', 'B', 'NB', 'B', 'NB'],\n",
       " 'Scholarship': ['Achiever Scholarship',\n",
       "  'No Scholarship',\n",
       "  'Achiever Scholarship',\n",
       "  'No Scholarship',\n",
       "  'High Achiever Scholarship']}"
      ]
     },
     "execution_count": 36,
     "metadata": {},
     "output_type": "execute_result"
    }
   ],
   "source": [
    "std_db"
   ]
  },
  {
   "cell_type": "code",
   "execution_count": 37,
   "metadata": {},
   "outputs": [
    {
     "data": {
      "text/plain": [
       "dict_keys(['Student ID', 'Gender', 'Department', 'Sessional Percentage', 'Total Marks', 'Backlogs', 'Scholarship'])"
      ]
     },
     "execution_count": 37,
     "metadata": {},
     "output_type": "execute_result"
    }
   ],
   "source": [
    "std_db.keys()"
   ]
  },
  {
   "cell_type": "code",
   "execution_count": 38,
   "metadata": {},
   "outputs": [
    {
     "data": {
      "text/plain": [
       "dict_items([('Student ID', ['s01', 's02', 's03', 's04', 's05']), ('Gender', ['M', 'F', 'F', 'M', 'F']), ('Department', ['CS', 'ECE', 'ME', 'CS', 'CS']), ('Sessional Percentage', [45, 60, 73, 65.3, 71.9]), ('Total Marks', [680, 800, 690, 650, 795.6]), ('Backlogs', ['NB', 'B', 'NB', 'B', 'NB']), ('Scholarship', ['Achiever Scholarship', 'No Scholarship', 'Achiever Scholarship', 'No Scholarship', 'High Achiever Scholarship'])])"
      ]
     },
     "execution_count": 38,
     "metadata": {},
     "output_type": "execute_result"
    }
   ],
   "source": [
    "std_db.items()"
   ]
  },
  {
   "cell_type": "code",
   "execution_count": 39,
   "metadata": {},
   "outputs": [
    {
     "data": {
      "text/plain": [
       "dict_values([['s01', 's02', 's03', 's04', 's05'], ['M', 'F', 'F', 'M', 'F'], ['CS', 'ECE', 'ME', 'CS', 'CS'], [45, 60, 73, 65.3, 71.9], [680, 800, 690, 650, 795.6], ['NB', 'B', 'NB', 'B', 'NB'], ['Achiever Scholarship', 'No Scholarship', 'Achiever Scholarship', 'No Scholarship', 'High Achiever Scholarship']])"
      ]
     },
     "execution_count": 39,
     "metadata": {},
     "output_type": "execute_result"
    }
   ],
   "source": [
    "std_db.values()"
   ]
  },
  {
   "cell_type": "code",
   "execution_count": null,
   "metadata": {},
   "outputs": [],
   "source": []
  }
 ],
 "metadata": {
  "kernelspec": {
   "display_name": "Python 3",
   "language": "python",
   "name": "python3"
  },
  "language_info": {
   "codemirror_mode": {
    "name": "ipython",
    "version": 3
   },
   "file_extension": ".py",
   "mimetype": "text/x-python",
   "name": "python",
   "nbconvert_exporter": "python",
   "pygments_lexer": "ipython3",
   "version": "3.11.5"
  }
 },
 "nbformat": 4,
 "nbformat_minor": 2
}
